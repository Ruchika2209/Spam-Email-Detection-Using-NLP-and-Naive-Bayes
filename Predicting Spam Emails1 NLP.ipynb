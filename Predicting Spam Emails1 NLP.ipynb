{
 "cells": [
  {
   "cell_type": "code",
   "execution_count": 1,
   "id": "6f4adb88-1e68-46f7-b258-62b2c50ead13",
   "metadata": {},
   "outputs": [],
   "source": [
    "import seaborn as sns\n",
    "import pandas as pd\n",
    "import numpy as np\n",
    "import matplotlib.pyplot as plt\n",
    "import string\n",
    "import re\n",
    "from nltk.stem import PorterStemmer"
   ]
  },
  {
   "cell_type": "code",
   "execution_count": 3,
   "id": "97119980-430d-4700-b95f-ba89ab20a5d6",
   "metadata": {},
   "outputs": [
    {
     "data": {
      "text/html": [
       "<div>\n",
       "<style scoped>\n",
       "    .dataframe tbody tr th:only-of-type {\n",
       "        vertical-align: middle;\n",
       "    }\n",
       "\n",
       "    .dataframe tbody tr th {\n",
       "        vertical-align: top;\n",
       "    }\n",
       "\n",
       "    .dataframe thead th {\n",
       "        text-align: right;\n",
       "    }\n",
       "</style>\n",
       "<table border=\"1\" class=\"dataframe\">\n",
       "  <thead>\n",
       "    <tr style=\"text-align: right;\">\n",
       "      <th></th>\n",
       "      <th>label</th>\n",
       "      <th>text</th>\n",
       "      <th>label_num</th>\n",
       "    </tr>\n",
       "  </thead>\n",
       "  <tbody>\n",
       "    <tr>\n",
       "      <th>0</th>\n",
       "      <td>ham</td>\n",
       "      <td>Subject: enron methanol ; meter # : 988291\\r\\n...</td>\n",
       "      <td>0</td>\n",
       "    </tr>\n",
       "    <tr>\n",
       "      <th>1</th>\n",
       "      <td>ham</td>\n",
       "      <td>Subject: hpl nom for january 9 , 2001\\r\\n( see...</td>\n",
       "      <td>0</td>\n",
       "    </tr>\n",
       "    <tr>\n",
       "      <th>2</th>\n",
       "      <td>ham</td>\n",
       "      <td>Subject: neon retreat\\r\\nho ho ho , we ' re ar...</td>\n",
       "      <td>0</td>\n",
       "    </tr>\n",
       "    <tr>\n",
       "      <th>3</th>\n",
       "      <td>spam</td>\n",
       "      <td>Subject: photoshop , windows , office . cheap ...</td>\n",
       "      <td>1</td>\n",
       "    </tr>\n",
       "    <tr>\n",
       "      <th>4</th>\n",
       "      <td>ham</td>\n",
       "      <td>Subject: re : indian springs\\r\\nthis deal is t...</td>\n",
       "      <td>0</td>\n",
       "    </tr>\n",
       "    <tr>\n",
       "      <th>...</th>\n",
       "      <td>...</td>\n",
       "      <td>...</td>\n",
       "      <td>...</td>\n",
       "    </tr>\n",
       "    <tr>\n",
       "      <th>5166</th>\n",
       "      <td>ham</td>\n",
       "      <td>Subject: put the 10 on the ft\\r\\nthe transport...</td>\n",
       "      <td>0</td>\n",
       "    </tr>\n",
       "    <tr>\n",
       "      <th>5167</th>\n",
       "      <td>ham</td>\n",
       "      <td>Subject: 3 / 4 / 2000 and following noms\\r\\nhp...</td>\n",
       "      <td>0</td>\n",
       "    </tr>\n",
       "    <tr>\n",
       "      <th>5168</th>\n",
       "      <td>ham</td>\n",
       "      <td>Subject: calpine daily gas nomination\\r\\n&gt;\\r\\n...</td>\n",
       "      <td>0</td>\n",
       "    </tr>\n",
       "    <tr>\n",
       "      <th>5169</th>\n",
       "      <td>ham</td>\n",
       "      <td>Subject: industrial worksheets for august 2000...</td>\n",
       "      <td>0</td>\n",
       "    </tr>\n",
       "    <tr>\n",
       "      <th>5170</th>\n",
       "      <td>spam</td>\n",
       "      <td>Subject: important online banking alert\\r\\ndea...</td>\n",
       "      <td>1</td>\n",
       "    </tr>\n",
       "  </tbody>\n",
       "</table>\n",
       "<p>5171 rows × 3 columns</p>\n",
       "</div>"
      ],
      "text/plain": [
       "     label                                               text  label_num\n",
       "0      ham  Subject: enron methanol ; meter # : 988291\\r\\n...          0\n",
       "1      ham  Subject: hpl nom for january 9 , 2001\\r\\n( see...          0\n",
       "2      ham  Subject: neon retreat\\r\\nho ho ho , we ' re ar...          0\n",
       "3     spam  Subject: photoshop , windows , office . cheap ...          1\n",
       "4      ham  Subject: re : indian springs\\r\\nthis deal is t...          0\n",
       "...    ...                                                ...        ...\n",
       "5166   ham  Subject: put the 10 on the ft\\r\\nthe transport...          0\n",
       "5167   ham  Subject: 3 / 4 / 2000 and following noms\\r\\nhp...          0\n",
       "5168   ham  Subject: calpine daily gas nomination\\r\\n>\\r\\n...          0\n",
       "5169   ham  Subject: industrial worksheets for august 2000...          0\n",
       "5170  spam  Subject: important online banking alert\\r\\ndea...          1\n",
       "\n",
       "[5171 rows x 3 columns]"
      ]
     },
     "execution_count": 3,
     "metadata": {},
     "output_type": "execute_result"
    }
   ],
   "source": [
    "df=pd.read_csv('spam_ham_dataset.csv')\n",
    "df"
   ]
  },
  {
   "cell_type": "code",
   "execution_count": 6,
   "id": "524134af-4a38-4ab3-95ec-7f7ef23ed637",
   "metadata": {},
   "outputs": [
    {
     "name": "stdout",
     "output_type": "stream",
     "text": [
      "Subject: enron methanol ; meter # : 988291\n",
      "this is a follow up to the note i gave you on monday , 4 / 3 / 00 { preliminary\n",
      "flow data provided by daren } .\n",
      "please override pop ' s daily volume { presently zero } to reflect daily\n",
      "activity you can obtain from gas control .\n",
      "this change is needed asap for economics purposes .\n"
     ]
    }
   ],
   "source": [
    "text=df['text'][0]\n",
    "print(text)"
   ]
  },
  {
   "cell_type": "code",
   "execution_count": 7,
   "id": "6ee2024f-e2e1-4a2a-86a5-faecf989aec1",
   "metadata": {},
   "outputs": [
    {
     "name": "stdout",
     "output_type": "stream",
     "text": [
      "subject: enron methanol ; meter # : 988291\n",
      "this is a follow up to the note i gave you on monday , 4 / 3 / 00 { preliminary\n",
      "flow data provided by daren } .\n",
      "please override pop ' s daily volume { presently zero } to reflect daily\n",
      "activity you can obtain from gas control .\n",
      "this change is needed asap for economics purposes .\n"
     ]
    }
   ],
   "source": [
    "#Lower case whole text\n",
    "text=text.lower()\n",
    "print(text)"
   ]
  },
  {
   "cell_type": "code",
   "execution_count": 8,
   "id": "09ad641d-8c9f-4afa-8399-0cf4677a51e5",
   "metadata": {},
   "outputs": [
    {
     "name": "stdout",
     "output_type": "stream",
     "text": [
      "subject: enron methanol ; meter # : \n",
      "this is a follow up to the note i gave you on monday ,  /  /  { preliminary\n",
      "flow data provided by daren } .\n",
      "please override pop ' s daily volume { presently zero } to reflect daily\n",
      "activity you can obtain from gas control .\n",
      "this change is needed asap for economics purposes .\n"
     ]
    }
   ],
   "source": [
    "#removing digits (\\d+)\n",
    "text=re.sub(r'\\d+','',text)\n",
    "print(text)"
   ]
  },
  {
   "cell_type": "code",
   "execution_count": 10,
   "id": "4b5a0859-f9a8-4db1-9505-dd7f7844add4",
   "metadata": {},
   "outputs": [
    {
     "name": "stdout",
     "output_type": "stream",
     "text": [
      "subject enron methanol  meter   \n",
      "this is a follow up to the note i gave you on monday        preliminary\n",
      "flow data provided by daren  \n",
      "please override pop  s daily volume  presently zero  to reflect daily\n",
      "activity you can obtain from gas control \n",
      "this change is needed asap for economics purposes \n"
     ]
    }
   ],
   "source": [
    "#removing punctuation\n",
    "text=''.join([i for i in text if i not in string.punctuation])\n",
    "print(text)"
   ]
  },
  {
   "cell_type": "code",
   "execution_count": 11,
   "id": "acdb9ecd-be9f-42e6-a376-398e0c0f0e2d",
   "metadata": {},
   "outputs": [
    {
     "data": {
      "text/plain": [
       "'!\"#$%&\\'()*+,-./:;<=>?@[\\\\]^_`{|}~'"
      ]
     },
     "execution_count": 11,
     "metadata": {},
     "output_type": "execute_result"
    }
   ],
   "source": [
    "string.punctuation"
   ]
  },
  {
   "cell_type": "code",
   "execution_count": 12,
   "id": "a84c9e77-e86e-489f-8c1f-ed470dbdcc89",
   "metadata": {},
   "outputs": [
    {
     "name": "stdout",
     "output_type": "stream",
     "text": [
      "subject enron methanol  meter   \n",
      "this is a follow up to the note i gave you on monday        preliminary\n",
      "flow data provided by daren  \n",
      "please override pop  s daily volume  presently zero  to reflect daily\n",
      "activity you can obtain from gas control \n",
      "this change is needed asap for economics purposes \n"
     ]
    }
   ],
   "source": [
    "#remove extra space from the begining or ending of sent\n",
    "tetx=text.strip()\n",
    "print(text)"
   ]
  },
  {
   "cell_type": "code",
   "execution_count": 15,
   "id": "f64924e4-6c6d-473b-9aa0-75c5d32ec3fe",
   "metadata": {},
   "outputs": [],
   "source": [
    "st=PorterStemmer()\n",
    "def clean_text(text):\n",
    "    text=text.lower()\n",
    "    text=re.sub(r'\\d+','',text)\n",
    "    text=''.join([i for i in text if i not in string.punctuation])\n",
    "    tetx=text.strip()\n",
    "    text=text.replace('subject','').strip()\n",
    "    text=' '.join([st.stem(word) for word in text.split()])\n",
    "    return text"
   ]
  },
  {
   "cell_type": "code",
   "execution_count": 18,
   "id": "141f8eb1-11f1-416e-b885-1d6d4db3dd73",
   "metadata": {},
   "outputs": [
    {
     "data": {
      "text/html": [
       "<div>\n",
       "<style scoped>\n",
       "    .dataframe tbody tr th:only-of-type {\n",
       "        vertical-align: middle;\n",
       "    }\n",
       "\n",
       "    .dataframe tbody tr th {\n",
       "        vertical-align: top;\n",
       "    }\n",
       "\n",
       "    .dataframe thead th {\n",
       "        text-align: right;\n",
       "    }\n",
       "</style>\n",
       "<table border=\"1\" class=\"dataframe\">\n",
       "  <thead>\n",
       "    <tr style=\"text-align: right;\">\n",
       "      <th></th>\n",
       "      <th>label</th>\n",
       "      <th>text</th>\n",
       "      <th>label_num</th>\n",
       "      <th>clean_text</th>\n",
       "    </tr>\n",
       "  </thead>\n",
       "  <tbody>\n",
       "    <tr>\n",
       "      <th>0</th>\n",
       "      <td>ham</td>\n",
       "      <td>Subject: enron methanol ; meter # : 988291\\r\\n...</td>\n",
       "      <td>0</td>\n",
       "      <td>enron methanol meter thi is a follow up to the...</td>\n",
       "    </tr>\n",
       "    <tr>\n",
       "      <th>1</th>\n",
       "      <td>ham</td>\n",
       "      <td>Subject: hpl nom for january 9 , 2001\\r\\n( see...</td>\n",
       "      <td>0</td>\n",
       "      <td>hpl nom for januari see attach file hplnol xl ...</td>\n",
       "    </tr>\n",
       "    <tr>\n",
       "      <th>2</th>\n",
       "      <td>ham</td>\n",
       "      <td>Subject: neon retreat\\r\\nho ho ho , we ' re ar...</td>\n",
       "      <td>0</td>\n",
       "      <td>neon retreat ho ho ho we re around to that mos...</td>\n",
       "    </tr>\n",
       "    <tr>\n",
       "      <th>3</th>\n",
       "      <td>spam</td>\n",
       "      <td>Subject: photoshop , windows , office . cheap ...</td>\n",
       "      <td>1</td>\n",
       "      <td>photoshop window offic cheap main trend abas d...</td>\n",
       "    </tr>\n",
       "    <tr>\n",
       "      <th>4</th>\n",
       "      <td>ham</td>\n",
       "      <td>Subject: re : indian springs\\r\\nthis deal is t...</td>\n",
       "      <td>0</td>\n",
       "      <td>re indian spring thi deal is to book the teco ...</td>\n",
       "    </tr>\n",
       "    <tr>\n",
       "      <th>...</th>\n",
       "      <td>...</td>\n",
       "      <td>...</td>\n",
       "      <td>...</td>\n",
       "      <td>...</td>\n",
       "    </tr>\n",
       "    <tr>\n",
       "      <th>5166</th>\n",
       "      <td>ham</td>\n",
       "      <td>Subject: put the 10 on the ft\\r\\nthe transport...</td>\n",
       "      <td>0</td>\n",
       "      <td>put the on the ft the transport volum decreas ...</td>\n",
       "    </tr>\n",
       "    <tr>\n",
       "      <th>5167</th>\n",
       "      <td>ham</td>\n",
       "      <td>Subject: 3 / 4 / 2000 and following noms\\r\\nhp...</td>\n",
       "      <td>0</td>\n",
       "      <td>and follow nom hpl can t take the extra mmcf d...</td>\n",
       "    </tr>\n",
       "    <tr>\n",
       "      <th>5168</th>\n",
       "      <td>ham</td>\n",
       "      <td>Subject: calpine daily gas nomination\\r\\n&gt;\\r\\n...</td>\n",
       "      <td>0</td>\n",
       "      <td>calpin daili ga nomin juli as i mention earlie...</td>\n",
       "    </tr>\n",
       "    <tr>\n",
       "      <th>5169</th>\n",
       "      <td>ham</td>\n",
       "      <td>Subject: industrial worksheets for august 2000...</td>\n",
       "      <td>0</td>\n",
       "      <td>industri worksheet for august activ attach are...</td>\n",
       "    </tr>\n",
       "    <tr>\n",
       "      <th>5170</th>\n",
       "      <td>spam</td>\n",
       "      <td>Subject: important online banking alert\\r\\ndea...</td>\n",
       "      <td>1</td>\n",
       "      <td>import onlin bank alert dear valu citizensr ba...</td>\n",
       "    </tr>\n",
       "  </tbody>\n",
       "</table>\n",
       "<p>5171 rows × 4 columns</p>\n",
       "</div>"
      ],
      "text/plain": [
       "     label                                               text  label_num  \\\n",
       "0      ham  Subject: enron methanol ; meter # : 988291\\r\\n...          0   \n",
       "1      ham  Subject: hpl nom for january 9 , 2001\\r\\n( see...          0   \n",
       "2      ham  Subject: neon retreat\\r\\nho ho ho , we ' re ar...          0   \n",
       "3     spam  Subject: photoshop , windows , office . cheap ...          1   \n",
       "4      ham  Subject: re : indian springs\\r\\nthis deal is t...          0   \n",
       "...    ...                                                ...        ...   \n",
       "5166   ham  Subject: put the 10 on the ft\\r\\nthe transport...          0   \n",
       "5167   ham  Subject: 3 / 4 / 2000 and following noms\\r\\nhp...          0   \n",
       "5168   ham  Subject: calpine daily gas nomination\\r\\n>\\r\\n...          0   \n",
       "5169   ham  Subject: industrial worksheets for august 2000...          0   \n",
       "5170  spam  Subject: important online banking alert\\r\\ndea...          1   \n",
       "\n",
       "                                             clean_text  \n",
       "0     enron methanol meter thi is a follow up to the...  \n",
       "1     hpl nom for januari see attach file hplnol xl ...  \n",
       "2     neon retreat ho ho ho we re around to that mos...  \n",
       "3     photoshop window offic cheap main trend abas d...  \n",
       "4     re indian spring thi deal is to book the teco ...  \n",
       "...                                                 ...  \n",
       "5166  put the on the ft the transport volum decreas ...  \n",
       "5167  and follow nom hpl can t take the extra mmcf d...  \n",
       "5168  calpin daili ga nomin juli as i mention earlie...  \n",
       "5169  industri worksheet for august activ attach are...  \n",
       "5170  import onlin bank alert dear valu citizensr ba...  \n",
       "\n",
       "[5171 rows x 4 columns]"
      ]
     },
     "execution_count": 18,
     "metadata": {},
     "output_type": "execute_result"
    }
   ],
   "source": [
    "df['clean_text']=df['text'].apply(clean_text)\n",
    "df"
   ]
  },
  {
   "cell_type": "code",
   "execution_count": 24,
   "id": "f4791271-37e8-425a-b0f4-d8738cfaf316",
   "metadata": {},
   "outputs": [],
   "source": [
    "from sklearn.feature_extraction.text import TfidfVectorizer\n",
    "vectorizer=TfidfVectorizer(stop_words='english')"
   ]
  },
  {
   "cell_type": "code",
   "execution_count": 25,
   "id": "e350e34e-5935-46ee-b5e6-ff5b006673a8",
   "metadata": {},
   "outputs": [
    {
     "data": {
      "text/html": [
       "<div>\n",
       "<style scoped>\n",
       "    .dataframe tbody tr th:only-of-type {\n",
       "        vertical-align: middle;\n",
       "    }\n",
       "\n",
       "    .dataframe tbody tr th {\n",
       "        vertical-align: top;\n",
       "    }\n",
       "\n",
       "    .dataframe thead th {\n",
       "        text-align: right;\n",
       "    }\n",
       "</style>\n",
       "<table border=\"1\" class=\"dataframe\">\n",
       "  <thead>\n",
       "    <tr style=\"text-align: right;\">\n",
       "      <th></th>\n",
       "      <th>apple</th>\n",
       "      <th>like</th>\n",
       "      <th>orange</th>\n",
       "    </tr>\n",
       "  </thead>\n",
       "  <tbody>\n",
       "    <tr>\n",
       "      <th>0</th>\n",
       "      <td>0.789807</td>\n",
       "      <td>0.613356</td>\n",
       "      <td>0.000000</td>\n",
       "    </tr>\n",
       "    <tr>\n",
       "      <th>1</th>\n",
       "      <td>0.000000</td>\n",
       "      <td>0.613356</td>\n",
       "      <td>0.789807</td>\n",
       "    </tr>\n",
       "    <tr>\n",
       "      <th>2</th>\n",
       "      <td>0.619805</td>\n",
       "      <td>0.481334</td>\n",
       "      <td>0.619805</td>\n",
       "    </tr>\n",
       "  </tbody>\n",
       "</table>\n",
       "</div>"
      ],
      "text/plain": [
       "      apple      like    orange\n",
       "0  0.789807  0.613356  0.000000\n",
       "1  0.000000  0.613356  0.789807\n",
       "2  0.619805  0.481334  0.619805"
      ]
     },
     "execution_count": 25,
     "metadata": {},
     "output_type": "execute_result"
    }
   ],
   "source": [
    "#example\n",
    "tfidf=vectorizer.fit_transform(['i like apple','i like orange','i like apple and orange'])\n",
    "\n",
    "pd.DataFrame(tfidf.toarray(), columns=vectorizer.get_feature_names_out())"
   ]
  },
  {
   "cell_type": "code",
   "execution_count": 30,
   "id": "3cd92751-6183-46f9-a6c6-7b481a5c8414",
   "metadata": {},
   "outputs": [],
   "source": [
    "X=vectorizer.fit_transform(df['clean_text'])"
   ]
  },
  {
   "cell_type": "code",
   "execution_count": 31,
   "id": "981cd55b-fbb1-4925-8830-04c39afdabf0",
   "metadata": {},
   "outputs": [],
   "source": [
    "y=df['label_num']"
   ]
  },
  {
   "cell_type": "code",
   "execution_count": 32,
   "id": "001996ef-c016-43f3-93ea-1ec39b95de11",
   "metadata": {},
   "outputs": [],
   "source": [
    "from sklearn.model_selection import train_test_split\n",
    "X_train,X_test,y_train,y_test=train_test_split(X,y,test_size=0.2)"
   ]
  },
  {
   "cell_type": "code",
   "execution_count": 33,
   "id": "c8570e6e-9893-475a-bf2e-46230abe204f",
   "metadata": {},
   "outputs": [
    {
     "name": "stdout",
     "output_type": "stream",
     "text": [
      "              precision    recall  f1-score   support\n",
      "\n",
      "           0       0.91      1.00      0.95       734\n",
      "           1       0.99      0.76      0.86       301\n",
      "\n",
      "    accuracy                           0.93      1035\n",
      "   macro avg       0.95      0.88      0.91      1035\n",
      "weighted avg       0.93      0.93      0.93      1035\n",
      "\n"
     ]
    }
   ],
   "source": [
    "from sklearn.naive_bayes import MultinomialNB\n",
    "nb=MultinomialNB()\n",
    "nb.fit(X_train,y_train)\n",
    "y_pred=nb.predict(X_test)\n",
    "from sklearn.metrics import classification_report\n",
    "print(classification_report(y_test,y_pred))"
   ]
  },
  {
   "cell_type": "code",
   "execution_count": 34,
   "id": "d9e96d19-7631-4d8c-a6c4-0636eac08c36",
   "metadata": {},
   "outputs": [],
   "source": [
    "def predict_email(text):\n",
    "    global pred\n",
    "    cleaned_text=clean_text(text)\n",
    "    vectorized=vectorizer.transform([cleaned_text])\n",
    "    pred=nb.predict_proba(vectorized)[0]\n",
    "    if pred[1]>0.3:\n",
    "        print('This seems like a Spam email')\n",
    "    else:\n",
    "        print('This seems like a Genuine email')"
   ]
  },
  {
   "cell_type": "code",
   "execution_count": 36,
   "id": "55a4c11e-55a1-4ea4-abb2-eb7e8ff34d36",
   "metadata": {},
   "outputs": [
    {
     "name": "stdout",
     "output_type": "stream",
     "text": [
      "This seems like a Spam email\n"
     ]
    }
   ],
   "source": [
    "exmaple_text='Hello Chatgpt'\n",
    "predict_email(exmaple_text)"
   ]
  },
  {
   "cell_type": "code",
   "execution_count": null,
   "id": "cb3babe5-43d7-4356-b07a-2243853c86a4",
   "metadata": {},
   "outputs": [],
   "source": []
  },
  {
   "cell_type": "code",
   "execution_count": null,
   "id": "14d109bc-e4d5-4890-b114-611b27e0812a",
   "metadata": {},
   "outputs": [],
   "source": []
  },
  {
   "cell_type": "code",
   "execution_count": null,
   "id": "99b69776-7570-4b1c-96fe-09f0cf3b0e6c",
   "metadata": {},
   "outputs": [],
   "source": []
  }
 ],
 "metadata": {
  "kernelspec": {
   "display_name": "Python 3 (ipykernel)",
   "language": "python",
   "name": "python3"
  },
  "language_info": {
   "codemirror_mode": {
    "name": "ipython",
    "version": 3
   },
   "file_extension": ".py",
   "mimetype": "text/x-python",
   "name": "python",
   "nbconvert_exporter": "python",
   "pygments_lexer": "ipython3",
   "version": "3.12.7"
  }
 },
 "nbformat": 4,
 "nbformat_minor": 5
}
